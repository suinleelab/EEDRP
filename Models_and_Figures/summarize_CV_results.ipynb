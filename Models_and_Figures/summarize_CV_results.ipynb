{
 "cells": [
  {
   "cell_type": "code",
   "execution_count": 1,
   "metadata": {
    "collapsed": true
   },
   "outputs": [],
   "source": [
    "import numpy as np\n",
    "import pandas as pd\n",
    "import scipy\n",
    "import os\n",
    "from sklearn import metrics\n",
    "from matplotlib import pyplot as plt\n",
    "import pickle\n",
    "from scipy import stats\n",
    "%matplotlib inline\n",
    "\n",
    "cmap=plt.cm.tab20\n",
    "cmaplist = [cmap(i) for i in range(cmap.N)]"
   ]
  },
  {
   "cell_type": "markdown",
   "metadata": {},
   "source": [
    "### Load results"
   ]
  },
  {
   "cell_type": "code",
   "execution_count": 2,
   "metadata": {
    "collapsed": true
   },
   "outputs": [],
   "source": [
    "years_data = 2\n",
    "only_one = False\n",
    "simplify_apoe = True\n",
    "COLS_TO_USE_DICT = {\"demographic_cols_allyears\": ['dcfdx__1.0','dcfdx__2.0', 'dcfdx__3.0', 'med_con_sum_cum', 'vasc_3dis_sum',\n",
    "                            'vasc_risks_sum', 'hypertension_cum', 'cancer_cum', 'diabetes_sr_rx', 'dm_cum',\n",
    "                            'headinjrloc_cum', 'thyroid_cum', 'claudication_cum', 'heart_cum', 'stroke_cum'],\n",
    "\"demographic_cols_oneyear\": ['apoe_genotype__22.0', 'apoe_genotype__23.0', 'apoe_genotype__24.0', 'apoe_genotype__33.0', \n",
    "                            'apoe_genotype__34.0', 'apoe_genotype__44.0', 'race__1.0', 'race__2.0', 'race__3.0', \n",
    "                            'race__6.0', 'age_at_visit', 'educ', 'msex', 'spanish'],\n",
    "\n",
    "\"baseline_demographics_cols\":['age_at_visit', 'educ', 'msex', 'apoe_genotype__22.0', 'apoe_genotype__23.0', 'apoe_genotype__24.0',\n",
    "                              'apoe_genotype__33.0', 'apoe_genotype__34.0', 'apoe_genotype__44.0'],\n",
    "\"baseline_mci_cols\":['dcfdx__2.0', 'dcfdx__3.0'],\n",
    "\"baseline_mmse30_cols\":['age_at_visit', 'educ', 'msex', 'apoe_genotype__22.0', 'apoe_genotype__23.0', 'apoe_genotype__24.0',\n",
    "                        'apoe_genotype__33.0', 'apoe_genotype__34.0', 'apoe_genotype__44.0', 'cts_mmse30'],\n",
    "\"simplified_cols\":['age_at_visit', 'educ', 'msex', 'apoe_genotype__22.0', 'apoe_genotype__23.0', 'apoe_genotype__24.0',\n",
    "                   'apoe_genotype__33.0', 'apoe_genotype__34.0', 'apoe_genotype__44.0', \n",
    "                   'cts_catflu', 'cts_mmse30', 'cts_sdmt', 'cts_wli', 'cts_wlii', 'cts_wliii'],\n",
    "\"nocogn_cols\":['age_at_visit', 'educ', 'msex', 'apoe_genotype__22.0', 'apoe_genotype__23.0', 'apoe_genotype__24.0',\n",
    "            'apoe_genotype__33.0', 'apoe_genotype__34.0', 'apoe_genotype__44.0', 'spanish', \n",
    "            'race__1.0', 'race__2.0', 'race__3.0', 'race__6.0', 'dcfdx__1.0', 'dcfdx__2.0',  'dcfdx__3.0', \n",
    "            'med_con_sum_cum', 'vasc_3dis_sum', 'vasc_risks_sum', 'hypertension_cum', 'cancer_cum', 'diabetes_sr_rx', \n",
    "            'dm_cum', 'headinjrloc_cum', 'thyroid_cum', 'claudication_cum', 'heart_cum', 'stroke_cum',\n",
    "            'cts_animals', 'cts_bname', 'cts_catflu', 'cts_db', 'cts_delay', 'cts_df', 'cts_doperf', 'cts_ebdr', 'cts_ebmt', \n",
    "            'cts_fruits', 'cts_idea', 'cts_lopair', 'cts_mmse30', 'cts_nccrtd', 'cts_pmat', 'cts_pmsub', 'cts_read_nart', \n",
    "            'cts_sdmt', 'cts_story', 'cts_stroop_cname', 'cts_stroop_wread', 'cts_wli', 'cts_wlii', 'cts_wliii'],\n",
    "\"all_cols\":['age_at_visit', 'educ', 'msex', 'apoe_genotype__22.0', 'apoe_genotype__23.0', 'apoe_genotype__24.0',\n",
    "            'apoe_genotype__33.0', 'apoe_genotype__34.0', 'apoe_genotype__44.0', 'spanish', \n",
    "            'race__1.0', 'race__2.0', 'race__3.0', 'race__6.0', 'dcfdx__1.0', 'dcfdx__2.0',  'dcfdx__3.0', \n",
    "            'med_con_sum_cum', 'vasc_3dis_sum', 'vasc_risks_sum', 'hypertension_cum', 'cancer_cum', 'diabetes_sr_rx', \n",
    "            'dm_cum', 'headinjrloc_cum', 'thyroid_cum', 'claudication_cum', 'heart_cum', 'stroke_cum',\n",
    "            'cts_animals', 'cts_bname', 'cts_catflu', 'cts_db', 'cts_delay', 'cts_df', 'cts_doperf', 'cts_ebdr', 'cts_ebmt', \n",
    "            'cts_fruits', 'cts_idea', 'cts_lopair', 'cts_mmse30', 'cts_nccrtd', 'cts_pmat', 'cts_pmsub', 'cts_read_nart', \n",
    "            'cts_sdmt', 'cts_story', 'cts_stroop_cname', 'cts_stroop_wread', 'cts_wli', 'cts_wlii', 'cts_wliii',\n",
    "            'cogn_ep', 'cogn_po', 'cogn_ps', 'cogn_se', 'cogn_wo', 'cogn_global']}\n",
    "\n",
    "# Change depending on which test you want to run\n",
    "cols_name = 'nocogn_cols'\n",
    "cols_to_use = COLS_TO_USE_DICT[cols_name]"
   ]
  },
  {
   "cell_type": "code",
   "execution_count": 3,
   "metadata": {
    "collapsed": true
   },
   "outputs": [],
   "source": [
    "eval_metrics = [\"accuracy\",\"roc_auc\"]\n",
    "\n",
    "years = 2\n",
    "within = 3\n",
    "models = [\"linear\", \"xgb\",\"LSTM\", \"MLP\"]\n",
    "num_years_datas =[\"1\",\"2\",\"3\", \"ma\", \"slopes\"]\n",
    "\n",
    "sample_types = [\"randdownsample\", \"matcheddownsample\", \"train\", \"weighted\"]\n",
    "\n",
    "results_dict = {}\n",
    "\n",
    "for model in models:\n",
    "    results_dict[model] = {}\n",
    "    for sample_type in sample_types:\n",
    "        results_dict[model][sample_type] = {}\n",
    "\n",
    "        for num_years_data in num_years_datas:\n",
    "            res_dicts = []\n",
    "            for k in range(5):\n",
    "\n",
    "                sample_type_prefix = \"\" if sample_type in [\"train\", \"weighted\"] else \"%s_\"%sample_type\n",
    "                sample_type_save = \"\" if sample_type==\"train\" else \"%s_\"%sample_type\n",
    "\n",
    "                save_suffix = '%s%s_%iyrprev_within%i_yrsincluded%s'%(sample_type_save, cols_name, years, within, num_years_data)\n",
    "\n",
    "                results_path = './results/CV/%s_%i_%s.p'%(model,k,save_suffix)\n",
    "\n",
    "\n",
    "                if os.path.exists(results_path):\n",
    "                    file = pickle.load(open(results_path, 'rb'))\n",
    "                    res_dict = {}\n",
    "                    res_dict['accuracy'], res_dict['roc_auc'], res_dict['pr_auc'], res_dict['precision'],  res_dict['recall'], res_dict['fpr'], res_dict['tpr'] = file\n",
    "                    res_dicts.append(res_dict)\n",
    "                    no_results = False\n",
    "                else:\n",
    "                    no_results = True\n",
    "\n",
    "            results_dict[model][sample_type][num_years_data] = {}\n",
    "\n",
    "            if no_results:\n",
    "                for eval_metric in eval_metrics:\n",
    "                    results_dict[model][sample_type][num_years_data][eval_metric] = np.nan\n",
    "\n",
    "            else:\n",
    "                for eval_metric in eval_metrics:\n",
    "                    results_dict[model][sample_type][num_years_data][eval_metric] = np.mean([r[eval_metric] for r in res_dicts])"
   ]
  },
  {
   "cell_type": "code",
   "execution_count": 4,
   "metadata": {
    "collapsed": true
   },
   "outputs": [],
   "source": [
    "results_df = pd.DataFrame.from_dict({(i,j,k): results_dict[i][j][k]\n",
    "                           for i in results_dict.keys() \n",
    "                           for j in results_dict[i].keys()\n",
    "                           for k in results_dict[i][j].keys()},\n",
    "                       orient='index')"
   ]
  },
  {
   "cell_type": "code",
   "execution_count": 5,
   "metadata": {
    "collapsed": true
   },
   "outputs": [],
   "source": [
    "model_names_official = {\"linear\": \"LR\", \"LSTM\": \"LSTM\", \"MLP\": \"MLP\", \"xgb\":\"GBM\"}\n",
    "\n",
    "# appendix version\n",
    "encoding_names = {\"3\": \"All data: last 3 years\", \"2\": \"All data: last 2 years\",\n",
    "                  \"1\":\"All data: current year\", \"ma\": \"Moving averages\", \"slopes\": \"Slopes\"}\n",
    "# main text version\n",
    "sample_type_names = {\"randdownsample\": \"Random\", \"matcheddownsample\": \"Matched pairs\", \"train\": \"Original\", \n",
    "                     \"weighted\": \"Re-weighting\"}\n"
   ]
  },
  {
   "cell_type": "markdown",
   "metadata": {},
   "source": [
    "### Generate latex tables: "
   ]
  },
  {
   "cell_type": "code",
   "execution_count": 6,
   "metadata": {},
   "outputs": [
    {
     "name": "stdout",
     "output_type": "stream",
     "text": [
      "LR & All data: current year & $nan$ & $nan$ \\\\\n",
      "LR & All data: last 2 years & $nan$ & $nan$ \\\\\n",
      "LR & All data: last 3 years & $nan$ & $nan$ \\\\\n",
      "LR & Moving averages & $nan$ & $nan$ \\\\\n",
      "LR & Slopes & $nan$ & $nan$ \\\\\n",
      "LR & All data: current year & $nan$ & $nan$ \\\\\n",
      "LR & All data: last 2 years & $nan$ & $nan$ \\\\\n",
      "LR & All data: last 3 years & $nan$ & $nan$ \\\\\n",
      "LR & Moving averages & $nan$ & $nan$ \\\\\n",
      "LR & Slopes & $nan$ & $nan$ \\\\\n",
      "LR & All data: current year & $nan$ & $nan$ \\\\\n",
      "LR & All data: last 2 years & $nan$ & $nan$ \\\\\n",
      "LR & All data: last 3 years & $nan$ & $nan$ \\\\\n",
      "LR & Moving averages & $nan$ & $nan$ \\\\\n",
      "LR & Slopes & $nan$ & $nan$ \\\\\n",
      "LR & All data: current year & $nan$ & $nan$ \\\\\n",
      "LR & All data: last 2 years & $nan$ & $nan$ \\\\\n",
      "LR & All data: last 3 years & $nan$ & $nan$ \\\\\n",
      "LR & Moving averages & $nan$ & $nan$ \\\\\n",
      "LR & Slopes & $nan$ & $nan$ \\\\\n",
      "GBM & All data: current year & $nan$ & $nan$ \\\\\n",
      "GBM & All data: last 2 years & $nan$ & $nan$ \\\\\n",
      "GBM & All data: last 3 years & $nan$ & $nan$ \\\\\n",
      "GBM & Moving averages & $nan$ & $nan$ \\\\\n",
      "GBM & Slopes & $nan$ & $nan$ \\\\\n",
      "GBM & All data: current year & $nan$ & $nan$ \\\\\n",
      "GBM & All data: last 2 years & $nan$ & $nan$ \\\\\n",
      "GBM & All data: last 3 years & $nan$ & $nan$ \\\\\n",
      "GBM & Moving averages & $nan$ & $nan$ \\\\\n",
      "GBM & Slopes & $nan$ & $nan$ \\\\\n",
      "GBM & All data: current year & $nan$ & $nan$ \\\\\n",
      "GBM & All data: last 2 years & $nan$ & $nan$ \\\\\n",
      "GBM & All data: last 3 years & $nan$ & $nan$ \\\\\n",
      "GBM & Moving averages & $nan$ & $nan$ \\\\\n",
      "GBM & Slopes & $nan$ & $nan$ \\\\\n",
      "GBM & All data: current year & $nan$ & $nan$ \\\\\n",
      "GBM & All data: last 2 years & $nan$ & $nan$ \\\\\n",
      "GBM & All data: last 3 years & $nan$ & $nan$ \\\\\n",
      "GBM & Moving averages & $nan$ & $nan$ \\\\\n",
      "GBM & Slopes & $nan$ & $nan$ \\\\\n",
      "LSTM & All data: current year & $nan$ & $nan$ \\\\\n",
      "LSTM & All data: last 2 years & $nan$ & $nan$ \\\\\n",
      "LSTM & All data: last 3 years & $nan$ & $nan$ \\\\\n",
      "LSTM & Moving averages & $nan$ & $nan$ \\\\\n",
      "LSTM & Slopes & $nan$ & $nan$ \\\\\n",
      "LSTM & All data: current year & $nan$ & $nan$ \\\\\n",
      "LSTM & All data: last 2 years & $nan$ & $nan$ \\\\\n",
      "LSTM & All data: last 3 years & $nan$ & $nan$ \\\\\n",
      "LSTM & Moving averages & $nan$ & $nan$ \\\\\n",
      "LSTM & Slopes & $nan$ & $nan$ \\\\\n",
      "LSTM & All data: current year & $nan$ & $nan$ \\\\\n",
      "LSTM & All data: last 2 years & $nan$ & $nan$ \\\\\n",
      "LSTM & All data: last 3 years & $nan$ & $nan$ \\\\\n",
      "LSTM & Moving averages & $nan$ & $nan$ \\\\\n",
      "LSTM & Slopes & $nan$ & $nan$ \\\\\n",
      "LSTM & All data: current year & $nan$ & $nan$ \\\\\n",
      "LSTM & All data: last 2 years & $nan$ & $nan$ \\\\\n",
      "LSTM & All data: last 3 years & $nan$ & $nan$ \\\\\n",
      "LSTM & Moving averages & $nan$ & $nan$ \\\\\n",
      "LSTM & Slopes & $nan$ & $nan$ \\\\\n",
      "MLP & All data: current year & $nan$ & $nan$ \\\\\n",
      "MLP & All data: last 2 years & $nan$ & $nan$ \\\\\n",
      "MLP & All data: last 3 years & $nan$ & $nan$ \\\\\n",
      "MLP & Moving averages & $nan$ & $nan$ \\\\\n",
      "MLP & Slopes & $nan$ & $nan$ \\\\\n",
      "MLP & All data: current year & $nan$ & $nan$ \\\\\n",
      "MLP & All data: last 2 years & $nan$ & $nan$ \\\\\n",
      "MLP & All data: last 3 years & $nan$ & $nan$ \\\\\n",
      "MLP & Moving averages & $nan$ & $nan$ \\\\\n",
      "MLP & Slopes & $nan$ & $nan$ \\\\\n",
      "MLP & All data: current year & $nan$ & $nan$ \\\\\n",
      "MLP & All data: last 2 years & $nan$ & $nan$ \\\\\n",
      "MLP & All data: last 3 years & $nan$ & $nan$ \\\\\n",
      "MLP & Moving averages & $nan$ & $nan$ \\\\\n",
      "MLP & Slopes & $nan$ & $nan$ \\\\\n",
      "MLP & All data: current year & $nan$ & $nan$ \\\\\n",
      "MLP & All data: last 2 years & $nan$ & $nan$ \\\\\n",
      "MLP & All data: last 3 years & $nan$ & $nan$ \\\\\n",
      "MLP & Moving averages & $nan$ & $nan$ \\\\\n",
      "MLP & Slopes & $nan$ & $nan$ \\\\\n"
     ]
    }
   ],
   "source": [
    "# main text version\n",
    "for index, row in results_df.sort_values(\"accuracy\", ascending=False).iterrows():\n",
    "    model, sample_type, years_method = index\n",
    "    \n",
    "    # main text version\n",
    "    print(\"%s & %s & $%.4f$ & $%.4f$ \\\\\\\\\"%(model_names_official[model], encoding_names[years_method], row[\"accuracy\"],row[\"roc_auc\"]))\n"
   ]
  },
  {
   "cell_type": "markdown",
   "metadata": {},
   "source": [
    "### Long version"
   ]
  },
  {
   "cell_type": "code",
   "execution_count": 7,
   "metadata": {},
   "outputs": [
    {
     "name": "stdout",
     "output_type": "stream",
     "text": [
      "LR & Random & All data: current year & $nan$ & $nan$ \\\\\n",
      "LR & Random & All data: last 2 years & $nan$ & $nan$ \\\\\n",
      "LR & Random & All data: last 3 years & $nan$ & $nan$ \\\\\n",
      "LR & Random & Moving averages & $nan$ & $nan$ \\\\\n",
      "LR & Random & Slopes & $nan$ & $nan$ \\\\\n",
      "LR & Matched pairs & All data: current year & $nan$ & $nan$ \\\\\n",
      "LR & Matched pairs & All data: last 2 years & $nan$ & $nan$ \\\\\n",
      "LR & Matched pairs & All data: last 3 years & $nan$ & $nan$ \\\\\n",
      "LR & Matched pairs & Moving averages & $nan$ & $nan$ \\\\\n",
      "LR & Matched pairs & Slopes & $nan$ & $nan$ \\\\\n",
      "LR & Original & All data: current year & $nan$ & $nan$ \\\\\n",
      "LR & Original & All data: last 2 years & $nan$ & $nan$ \\\\\n",
      "LR & Original & All data: last 3 years & $nan$ & $nan$ \\\\\n",
      "LR & Original & Moving averages & $nan$ & $nan$ \\\\\n",
      "LR & Original & Slopes & $nan$ & $nan$ \\\\\n",
      "LR & Re-weighting & All data: current year & $nan$ & $nan$ \\\\\n",
      "LR & Re-weighting & All data: last 2 years & $nan$ & $nan$ \\\\\n",
      "LR & Re-weighting & All data: last 3 years & $nan$ & $nan$ \\\\\n",
      "LR & Re-weighting & Moving averages & $nan$ & $nan$ \\\\\n",
      "LR & Re-weighting & Slopes & $nan$ & $nan$ \\\\\n",
      "GBM & Random & All data: current year & $nan$ & $nan$ \\\\\n",
      "GBM & Random & All data: last 2 years & $nan$ & $nan$ \\\\\n",
      "GBM & Random & All data: last 3 years & $nan$ & $nan$ \\\\\n",
      "GBM & Random & Moving averages & $nan$ & $nan$ \\\\\n",
      "GBM & Random & Slopes & $nan$ & $nan$ \\\\\n",
      "GBM & Matched pairs & All data: current year & $nan$ & $nan$ \\\\\n",
      "GBM & Matched pairs & All data: last 2 years & $nan$ & $nan$ \\\\\n",
      "GBM & Matched pairs & All data: last 3 years & $nan$ & $nan$ \\\\\n",
      "GBM & Matched pairs & Moving averages & $nan$ & $nan$ \\\\\n",
      "GBM & Matched pairs & Slopes & $nan$ & $nan$ \\\\\n",
      "GBM & Original & All data: current year & $nan$ & $nan$ \\\\\n",
      "GBM & Original & All data: last 2 years & $nan$ & $nan$ \\\\\n",
      "GBM & Original & All data: last 3 years & $nan$ & $nan$ \\\\\n",
      "GBM & Original & Moving averages & $nan$ & $nan$ \\\\\n",
      "GBM & Original & Slopes & $nan$ & $nan$ \\\\\n",
      "GBM & Re-weighting & All data: current year & $nan$ & $nan$ \\\\\n",
      "GBM & Re-weighting & All data: last 2 years & $nan$ & $nan$ \\\\\n",
      "GBM & Re-weighting & All data: last 3 years & $nan$ & $nan$ \\\\\n",
      "GBM & Re-weighting & Moving averages & $nan$ & $nan$ \\\\\n",
      "GBM & Re-weighting & Slopes & $nan$ & $nan$ \\\\\n",
      "LSTM & Random & All data: current year & $nan$ & $nan$ \\\\\n",
      "LSTM & Random & All data: last 2 years & $nan$ & $nan$ \\\\\n",
      "LSTM & Random & All data: last 3 years & $nan$ & $nan$ \\\\\n",
      "LSTM & Matched pairs & All data: current year & $nan$ & $nan$ \\\\\n",
      "LSTM & Matched pairs & All data: last 2 years & $nan$ & $nan$ \\\\\n",
      "LSTM & Matched pairs & All data: last 3 years & $nan$ & $nan$ \\\\\n",
      "LSTM & Original & All data: current year & $nan$ & $nan$ \\\\\n",
      "LSTM & Original & All data: last 2 years & $nan$ & $nan$ \\\\\n",
      "LSTM & Original & All data: last 3 years & $nan$ & $nan$ \\\\\n",
      "LSTM & Re-weighting & All data: current year & $nan$ & $nan$ \\\\\n",
      "LSTM & Re-weighting & All data: last 2 years & $nan$ & $nan$ \\\\\n",
      "LSTM & Re-weighting & All data: last 3 years & $nan$ & $nan$ \\\\\n",
      "MLP & Random & All data: current year & $nan$ & $nan$ \\\\\n",
      "MLP & Random & All data: last 2 years & $nan$ & $nan$ \\\\\n",
      "MLP & Random & All data: last 3 years & $nan$ & $nan$ \\\\\n",
      "MLP & Random & Moving averages & $nan$ & $nan$ \\\\\n",
      "MLP & Random & Slopes & $nan$ & $nan$ \\\\\n",
      "MLP & Matched pairs & All data: current year & $nan$ & $nan$ \\\\\n",
      "MLP & Matched pairs & All data: last 2 years & $nan$ & $nan$ \\\\\n",
      "MLP & Matched pairs & All data: last 3 years & $nan$ & $nan$ \\\\\n",
      "MLP & Matched pairs & Moving averages & $nan$ & $nan$ \\\\\n",
      "MLP & Matched pairs & Slopes & $nan$ & $nan$ \\\\\n",
      "MLP & Original & All data: current year & $nan$ & $nan$ \\\\\n",
      "MLP & Original & All data: last 2 years & $nan$ & $nan$ \\\\\n",
      "MLP & Original & All data: last 3 years & $nan$ & $nan$ \\\\\n",
      "MLP & Original & Moving averages & $nan$ & $nan$ \\\\\n",
      "MLP & Original & Slopes & $nan$ & $nan$ \\\\\n",
      "MLP & Re-weighting & All data: current year & $nan$ & $nan$ \\\\\n",
      "MLP & Re-weighting & All data: last 2 years & $nan$ & $nan$ \\\\\n",
      "MLP & Re-weighting & All data: last 3 years & $nan$ & $nan$ \\\\\n",
      "MLP & Re-weighting & Moving averages & $nan$ & $nan$ \\\\\n",
      "MLP & Re-weighting & Slopes & $nan$ & $nan$ \\\\\n"
     ]
    }
   ],
   "source": [
    "# appendix version\n",
    "\n",
    "for index, row in results_df.iterrows():\n",
    "    model, sample_type, years_method = index\n",
    "\n",
    "    if (model != \"LSTM\") or (years_method not in [\"ma\", \"slopes\"]):\n",
    "        print(\"%s & %s & %s & $%.4f$ & $%.4f$ \\\\\\\\\"%(model_names_official[model], sample_type_names[sample_type],\n",
    "                                                 encoding_names[years_method], row[\"accuracy\"],row[\"roc_auc\"]))\n"
   ]
  },
  {
   "cell_type": "markdown",
   "metadata": {},
   "source": [
    "### Computing performance for single years (not cumulative)"
   ]
  },
  {
   "cell_type": "code",
   "execution_count": 12,
   "metadata": {
    "collapsed": true
   },
   "outputs": [],
   "source": [
    "eval_metrics = [\"accuracy\",\"roc_auc\", \"pr_auc\"]\n",
    "\n",
    "years = 2\n",
    "within = 3\n",
    "\n",
    "models = [\"MLP\", \"LSTM\", \"linear\",\"xgb\"]\n",
    "\n",
    "single_years = [\"yrsincluded1\", \"singleyear-1\", \"singleyear-2\"]\n",
    "multiple_years = [\"yrsincluded1\", \"yrsincluded2\", \"yrsincluded3\"]\n",
    "sample_types = [\"train\"]\n",
    "\n",
    "\n",
    "results_dict = {}\n",
    "results_dict_stderrs = {}\n",
    "\n",
    "for model in models:\n",
    "    results_dict[model] = {}\n",
    "    results_dict_stderrs[model] = {}\n",
    "\n",
    "    for sample_type in sample_types:\n",
    "        results_dict[model][sample_type] = {}\n",
    "        results_dict_stderrs[model][sample_type] = {}\n",
    "\n",
    "        for single_year in single_years+multiple_years:\n",
    "            res_dicts = []\n",
    "            for k in range(5):\n",
    "\n",
    "                sample_type_prefix = \"\" if sample_type in [\"train\", \"weighted\"] else \"%s_\"%sample_type\n",
    "                sample_type_save = \"\" if sample_type==\"train\" else \"%s_\"%sample_type\n",
    "\n",
    "                save_suffix = '%s%s_%iyrprev_within%i_%s'%(sample_type_save, cols_name, years, within, single_year)\n",
    "\n",
    "                results_path = './results/CV/%s_%i_%s.p'%(model,k,save_suffix)\n",
    "\n",
    "                if os.path.exists(results_path):\n",
    "                    file = pickle.load(open(results_path, 'rb'))\n",
    "                    res_dict = {}\n",
    "                    res_dict['accuracy'], res_dict['roc_auc'], res_dict['pr_auc'], res_dict['precision'],  res_dict['recall'], res_dict['fpr'], res_dict['tpr'] = file\n",
    "                    res_dicts.append(res_dict)\n",
    "                    no_results = False\n",
    "                else:\n",
    "                    no_results = True\n",
    "\n",
    "            results_dict[model][sample_type][single_year] = {}\n",
    "            results_dict_stderrs[model][sample_type][single_year] = {}\n",
    "\n",
    "            if no_results:\n",
    "                for eval_metric in eval_metrics:\n",
    "                    results_dict[model][sample_type][single_year][eval_metric] = np.nan\n",
    "                    results_dict_stderrs[model][sample_type][single_year][eval_metric] = np.nan\n",
    "\n",
    "            else:\n",
    "                for eval_metric in eval_metrics:\n",
    "                    results_dict[model][sample_type][single_year][eval_metric] = np.mean([r[eval_metric] for r in res_dicts])\n",
    "                    results_dict_stderrs[model][sample_type][single_year][eval_metric] = stats.sem([r[eval_metric] for r in res_dicts])"
   ]
  },
  {
   "cell_type": "code",
   "execution_count": 14,
   "metadata": {},
   "outputs": [
    {
     "data": {
      "text/plain": [
       "'./results/CV/xgb_4_nocogn_cols_2yrprev_within3_yrsincluded3.p'"
      ]
     },
     "execution_count": 14,
     "metadata": {},
     "output_type": "execute_result"
    }
   ],
   "source": [
    "results_path"
   ]
  },
  {
   "cell_type": "code",
   "execution_count": 9,
   "metadata": {},
   "outputs": [
    {
     "name": "stderr",
     "output_type": "stream",
     "text": [
      "'c' argument looks like a single numeric RGB or RGBA sequence, which should be avoided as value-mapping will have precedence in case its length matches with 'x' & 'y'.  Please use a 2-D array with a single row if you really want to specify the same RGB or RGBA value for all points.\n",
      "'c' argument looks like a single numeric RGB or RGBA sequence, which should be avoided as value-mapping will have precedence in case its length matches with 'x' & 'y'.  Please use a 2-D array with a single row if you really want to specify the same RGB or RGBA value for all points.\n",
      "'c' argument looks like a single numeric RGB or RGBA sequence, which should be avoided as value-mapping will have precedence in case its length matches with 'x' & 'y'.  Please use a 2-D array with a single row if you really want to specify the same RGB or RGBA value for all points.\n",
      "'c' argument looks like a single numeric RGB or RGBA sequence, which should be avoided as value-mapping will have precedence in case its length matches with 'x' & 'y'.  Please use a 2-D array with a single row if you really want to specify the same RGB or RGBA value for all points.\n",
      "'c' argument looks like a single numeric RGB or RGBA sequence, which should be avoided as value-mapping will have precedence in case its length matches with 'x' & 'y'.  Please use a 2-D array with a single row if you really want to specify the same RGB or RGBA value for all points.\n",
      "'c' argument looks like a single numeric RGB or RGBA sequence, which should be avoided as value-mapping will have precedence in case its length matches with 'x' & 'y'.  Please use a 2-D array with a single row if you really want to specify the same RGB or RGBA value for all points.\n",
      "'c' argument looks like a single numeric RGB or RGBA sequence, which should be avoided as value-mapping will have precedence in case its length matches with 'x' & 'y'.  Please use a 2-D array with a single row if you really want to specify the same RGB or RGBA value for all points.\n",
      "'c' argument looks like a single numeric RGB or RGBA sequence, which should be avoided as value-mapping will have precedence in case its length matches with 'x' & 'y'.  Please use a 2-D array with a single row if you really want to specify the same RGB or RGBA value for all points.\n"
     ]
    },
    {
     "name": "stdout",
     "output_type": "stream",
     "text": [
      "[nan, nan, nan] [0, 1, 2] [nan, nan, nan]\n",
      "[nan, nan, nan] [0, 1, 2] [nan, nan, nan]\n",
      "[nan, nan, nan] [0, 1, 2] [nan, nan, nan]\n",
      "[nan, nan, nan] [0, 1, 2] [nan, nan, nan]\n"
     ]
    },
    {
     "data": {
      "text/plain": [
       "([<matplotlib.axis.XTick at 0x271d1b6af28>,\n",
       "  <matplotlib.axis.XTick at 0x271d1b6aef0>,\n",
       "  <matplotlib.axis.XTick at 0x271d1b6ab38>],\n",
       " <a list of 3 Text major ticklabel objects>)"
      ]
     },
     "execution_count": 9,
     "metadata": {},
     "output_type": "execute_result"
    },
    {
     "data": {
      "image/png": "[encoded data removed]",
      "text/plain": [
       "<Figure size 576x432 with 1 Axes>"
      ]
     },
     "metadata": {},
     "output_type": "display_data"
    }
   ],
   "source": [
    "sample_type = \"train\"\n",
    "eval_metric = \"roc_auc\"\n",
    "eval_metric = \"pr_auc\"\n",
    "eval_metric = \"accuracy\"\n",
    "\n",
    "models_colors = {\"MLP\": cmaplist[4], \"LSTM\": cmaplist[8], \"xgb\":cmaplist[0] , \"linear\":cmaplist[2]}\n",
    "\n",
    "to_plot_xs = [0,1,2]\n",
    "\n",
    "names = [\"yrsincluded1\", \"yrsincluded2\", \"yrsincluded3\"]\n",
    "\n",
    "f,ax =  plt.subplots(figsize=(8,6))\n",
    "# changed size to fit in 3 plots\n",
    "# f,ax =  plt.subplots(figsize=(5,7))\n",
    "\n",
    "\n",
    "for modelnum, model in enumerate(models):\n",
    "    to_plot_xs_forplot = [x+.02*modelnum for x in to_plot_xs]\n",
    "    to_plot_ys = []\n",
    "    to_plot_stderrs=[]\n",
    "    for x in to_plot_xs:\n",
    "        to_plot_ys.append(results_dict[model][sample_type][names[x]][eval_metric])\n",
    "        to_plot_stderrs.append(results_dict_stderrs[model][sample_type][names[x]][eval_metric])\n",
    "\n",
    "    color = models_colors[model]\n",
    "\n",
    "    for i in range(len(to_plot_xs)):\n",
    "        plt.errorbar(to_plot_xs_forplot[i], to_plot_ys[i], yerr=to_plot_stderrs[i], xerr=None, fmt='', ecolor=color, elinewidth=None, capsize=2, alpha=.5)\n",
    "\n",
    "    plt.plot(to_plot_xs_forplot, to_plot_ys,  c=color)\n",
    "    plt.scatter(to_plot_xs_forplot, to_plot_ys,  c=color, s=150, alpha=.8)\n",
    "\n",
    "    \n",
    "names = [\"yrsincluded1\", \"singleyear-1\", \"singleyear-2\"]\n",
    "\n",
    "\n",
    "for modelnum, model in enumerate(models):\n",
    "    to_plot_xs_forplot = [x+.02*modelnum for x in to_plot_xs]\n",
    "    to_plot_ys = []\n",
    "    to_plot_stderrs = []\n",
    "    for x in to_plot_xs:\n",
    "        to_plot_ys.append(results_dict[model][sample_type][names[x]][eval_metric])\n",
    "        to_plot_stderrs.append(results_dict_stderrs[model][sample_type][names[x]][eval_metric])\n",
    "\n",
    "    print(to_plot_ys, to_plot_xs, to_plot_stderrs)\n",
    "    \n",
    "    color = models_colors[model]\n",
    "\n",
    "    plt.plot(to_plot_xs_forplot, to_plot_ys, alpha=.5, linestyle=\"--\", c=color)\n",
    "    plt.scatter(to_plot_xs_forplot, to_plot_ys, marker=\"v\",  c=color, s=100, alpha=.8)\n",
    "\n",
    "    for i in range(len(to_plot_xs_forplot)):\n",
    "        plt.errorbar(to_plot_xs_forplot[i], to_plot_ys[i], yerr=to_plot_stderrs[i], xerr=None, fmt='', ecolor=color, elinewidth=None, capsize=2, alpha=.5)\n",
    "\n",
    "ax.spines['right'].set_visible(False)\n",
    "ax.spines['top'].set_visible(False)\n",
    "ax.set_facecolor(\"None\")\n",
    "\n",
    "plt.legend(models, loc=(1,1))\n",
    "plt.ylabel(eval_metric)\n",
    "plt.xticks(to_plot_xs)"
   ]
  },
  {
   "cell_type": "code",
   "execution_count": null,
   "metadata": {
    "collapsed": true
   },
   "outputs": [],
   "source": []
  },
  {
   "cell_type": "code",
   "execution_count": null,
   "metadata": {
    "collapsed": true
   },
   "outputs": [],
   "source": []
  }
 ],
 "metadata": {
  "kernelspec": {
   "display_name": "Python 3.6",
   "language": "python",
   "name": "py36"
  },
  "language_info": {
   "codemirror_mode": {
    "name": "ipython",
    "version": 3
   },
   "file_extension": ".py",
   "mimetype": "text/x-python",
   "name": "python",
   "nbconvert_exporter": "python",
   "pygments_lexer": "ipython3",
   "version": "3.6.3"
  }
 },
 "nbformat": 4,
 "nbformat_minor": 2
}
