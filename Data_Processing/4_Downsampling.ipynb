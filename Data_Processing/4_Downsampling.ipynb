{
 "cells": [
  {
   "cell_type": "markdown",
   "metadata": {},
   "source": [
    "### Note:\n",
    "We explored several downsampling techniques due to our imbalanced labels. We ultimately found that performance (AUROC, AUPRC, and accuracy) was not improved with downsampling and left it out of our final pipeline."
   ]
  },
  {
   "cell_type": "code",
   "execution_count": 1,
   "metadata": {
    "collapsed": true
   },
   "outputs": [],
   "source": [
    "import numpy as np\n",
    "import pandas as pd\n",
    "from scipy.spatial.distance import cdist as cdist"
   ]
  },
  {
   "cell_type": "markdown",
   "metadata": {},
   "source": [
    "## Reading in Data"
   ]
  },
  {
   "cell_type": "code",
   "execution_count": 2,
   "metadata": {
    "collapsed": true
   },
   "outputs": [],
   "source": [
    "file_suffix = \"2yrprev_within3\"\n",
    "DATA = pd.read_csv(\"../DATA/PROCESSED/standardized/merged_kept_data_%s.csv\"%file_suffix, index_col=0)\n",
    "DATA_all = pd.read_csv(\"../DATA/PROCESSED/standardized/merged_data_all_%s.csv\"%file_suffix, index_col=0).drop_duplicates()"
   ]
  },
  {
   "cell_type": "code",
   "execution_count": 4,
   "metadata": {},
   "outputs": [],
   "source": [
    "# import prior years data\n",
    "import_cols = ['dcfdx__1.0','dcfdx__2.0', 'dcfdx__3.0','cogn_ep','cogn_po','cogn_ps','cogn_se','cogn_wo','cogn_global',\n",
    "               'cts_animals','cts_bname','cts_catflu','cts_db','cts_delay','cts_df','cts_doperf','cts_ebdr',\n",
    "               'cts_ebmt','cts_fruits','cts_idea','cts_lopair','cts_mmse30','cts_nccrtd','cts_pmat','cts_pmsub',\n",
    "               'cts_read_nart','cts_sdmt','cts_story','cts_stroop_cname','cts_stroop_wread','cts_wli','cts_wlii',\n",
    "               'cts_wliii','age_at_visit','hypertension_cum','cancer_cum','diabetes_sr_rx','dm_cum','headinjrloc_cum',\n",
    "               'med_con_sum_cum','thyroid_cum','claudication_cum','heart_cum','stroke_cum',\n",
    "               'vasc_3dis_sum','vasc_risks_sum']\n",
    "\n",
    "years = 2 # how many years in the past to collect data from\n",
    "\n",
    "for i in range(1,years+1):\n",
    "    for col in import_cols:\n",
    "        DATA[col+str(i)] = np.nan\n",
    "for row in range(DATA.shape[0]):\n",
    "    for i in range(1,years+1):\n",
    "        curr_row = DATA_all.loc[((DATA_all['projid'] == DATA.loc[row,'projid']) & (DATA_all['fu_year'] == DATA.loc[row,'fu_year']-i))]\n",
    "        if len(curr_row)>1:\n",
    "            print('more than one entry')\n",
    "            curr_row = DATA_all.iloc[curr_row.index[0]]\n",
    "            print(curr_row)\n",
    "        for col in import_cols:\n",
    "            DATA.at[row,(col+str(i))] = curr_row[col]"
   ]
  },
  {
   "cell_type": "markdown",
   "metadata": {},
   "source": [
    "## Balancing Methods"
   ]
  },
  {
   "cell_type": "code",
   "execution_count": 19,
   "metadata": {
    "collapsed": true
   },
   "outputs": [],
   "source": [
    "# random downsampling\n",
    "for split in range(5):\n",
    "    for group in ['train']:\n",
    "        data_train = DATA[DATA[\"projid\"].isin(np.loadtxt(\"../DATA/PROCESSED/split_projids/CV_splits/%i/%s_%s.txt\"%(split,group,file_suffix)))]\n",
    "        neg_label_train = data_train[data_train[\"onset_label_time_binary\"]==0].sample(n=data_train[data_train[\"onset_label_time_binary\"]==1].shape[0])\n",
    "        train_randdownsample = neg_label_train.append(data_train[data_train[\"onset_label_time_binary\"]==1])\n",
    "        save_randdownsample = train_randdownsample[[\"projid\",\"fu_year\",\"onset_label_time\",\"onset_label_time_binary\"]]\n",
    "        save_randdownsample.to_csv(\"../DATA/PROCESSED/split_projids/CV_splits/%i/randdownsample_%s_%s.txt\"%(split,group,file_suffix))\n",
    "\n",
    "for group in ['train']:\n",
    "    data_test = DATA[DATA[\"projid\"].isin(np.loadtxt(\"../DATA/PROCESSED/split_projids/%s_%s.txt\"%(group,file_suffix)))]\n",
    "    neg_label_test = data_test[data_test[\"onset_label_time_binary\"]==0].sample(n=data_test[data_test[\"onset_label_time_binary\"]==1].shape[0])\n",
    "    test_randdownsample = neg_label_test.append(data_test[data_test[\"onset_label_time_binary\"]==1])\n",
    "    save_randdownsample = test_randdownsample[[\"projid\",\"fu_year\",\"onset_label_time\",\"onset_label_time_binary\"]]\n",
    "    save_randdownsample.to_csv(\"../DATA/PROCESSED/split_projids/randdownsample_%s_%s.txt\"%(group,file_suffix))"
   ]
  },
  {
   "cell_type": "code",
   "execution_count": 21,
   "metadata": {
    "collapsed": true
   },
   "outputs": [],
   "source": [
    "# matched pairs downsampling\n",
    "for split in range(5):\n",
    "    for group in ['train']:\n",
    "        data_train = DATA[DATA[\"projid\"].isin(np.loadtxt(\"../DATA/PROCESSED/split_projids/CV_splits/%i/%s_%s.txt\"%(split,group,file_suffix)))]\n",
    "        train_matcheddownsample = data_train[data_train[\"onset_label_time_binary\"]==1]\n",
    "        possible_matches = data_train[data_train[\"onset_label_time_binary\"]==0]\n",
    "        for row in data_train.index[data_train['onset_label_time_binary'] == 1].tolist():\n",
    "            matches = possible_matches.loc[((possible_matches[\"msex\"]==data_train.loc[row,\"msex\"]) & (possible_matches[\"projid\"]!=data_train.loc[row,\"projid\"]))]\n",
    "            dist = cdist(data_train.loc[[row],['age_at_visit','educ']], matches.loc[matches.index,['age_at_visit','educ']], metric='euclidean')\n",
    "            train_matcheddownsample = train_matcheddownsample.append(matches.iloc[np.argmin(dist)])\n",
    "            possible_matches.drop(matches.index[np.argmin(dist)], inplace=True)\n",
    "            possible_matches.reset_index(inplace=True, drop=True)\n",
    "        save_matcheddownsample = train_matcheddownsample[[\"projid\",\"fu_year\",\"onset_label_time\",\"onset_label_time_binary\"]]\n",
    "        save_matcheddownsample.to_csv(\"../DATA/PROCESSED/split_projids/CV_splits/%i/matcheddownsample_%s_%s.txt\"%(split,group,file_suffix))\n",
    "        \n",
    "for group in ['train']:\n",
    "    data_train = DATA[DATA[\"projid\"].isin(np.loadtxt(\"../DATA/PROCESSED/split_projids/%s_%s.txt\"%(group,file_suffix)))]\n",
    "    train_matcheddownsample = data_train[data_train[\"onset_label_time_binary\"]==1]\n",
    "    possible_matches = data_train[data_train[\"onset_label_time_binary\"]==0]\n",
    "    for row in data_train.index[data_train['onset_label_time_binary'] == 1].tolist():\n",
    "        matches = possible_matches.loc[((possible_matches[\"msex\"]==data_train.loc[row,\"msex\"]) & (possible_matches[\"projid\"]!=data_train.loc[row,\"projid\"]))]\n",
    "        dist = cdist(data_train.loc[[row],['age_at_visit','educ']], matches.loc[matches.index,['age_at_visit','educ']], metric='euclidean')\n",
    "        train_matcheddownsample = train_matcheddownsample.append(matches.iloc[np.argmin(dist)])\n",
    "        possible_matches.drop(matches.index[np.argmin(dist)], inplace=True)\n",
    "        possible_matches.reset_index(inplace=True, drop=True)\n",
    "    save_matcheddownsample = train_matcheddownsample[[\"projid\",\"fu_year\",\"onset_label_time\",\"onset_label_time_binary\"]]\n",
    "    save_matcheddownsample.to_csv(\"../DATA/PROCESSED/split_projids/matcheddownsample_%s_%s.txt\"%(group,file_suffix))"
   ]
  }
 ],
 "metadata": {
  "kernelspec": {
   "display_name": "Python 3.6",
   "language": "python",
   "name": "py36"
  },
  "language_info": {
   "codemirror_mode": {
    "name": "ipython",
    "version": 3
   },
   "file_extension": ".py",
   "mimetype": "text/x-python",
   "name": "python",
   "nbconvert_exporter": "python",
   "pygments_lexer": "ipython3",
   "version": "3.6.3"
  }
 },
 "nbformat": 4,
 "nbformat_minor": 2
}
