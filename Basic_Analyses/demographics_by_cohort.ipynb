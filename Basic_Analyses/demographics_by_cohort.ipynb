{
 "cells": [
  {
   "cell_type": "code",
   "execution_count": 1,
   "metadata": {
    "collapsed": true
   },
   "outputs": [],
   "source": [
    "import numpy as np\n",
    "import pandas as pd\n",
    "import scipy\n",
    "import os\n",
    "from sklearn import metrics\n",
    "from matplotlib import pyplot as plt\n",
    "import matplotlib as mpl\n",
    "import pickle\n",
    "import seaborn as sns\n",
    "import matplotlib\n",
    "%matplotlib inline\n",
    "\n",
    "from scipy import stats\n",
    "\n",
    "import seaborn as sns\n",
    "import matplotlib.pyplot as plt\n",
    "import matplotlib.ticker as ticker\n",
    "sns.set(style=\"whitegrid\")\n"
   ]
  },
  {
   "cell_type": "code",
   "execution_count": 2,
   "metadata": {
    "collapsed": true
   },
   "outputs": [],
   "source": [
    "dset = \"2yrprev_within3\""
   ]
  },
  {
   "cell_type": "code",
   "execution_count": 3,
   "metadata": {
    "collapsed": true
   },
   "outputs": [],
   "source": [
    "# NOTE: the categorical ones are NOT the one-hot encoded version for the model, but the raw versions from before standardization\n",
    "\n",
    "cognitive_features = ['cts_animals', 'cts_bname', 'cts_catflu','cts_db', 'cts_delay', 'cts_df', 'cts_doperf', 'cts_ebdr', 'cts_ebmt',\\\n",
    "            'cts_fruits', 'cts_idea', 'cts_lopair', 'cts_mmse30', 'cts_nccrtd','cts_pmat', 'cts_pmsub', 'cts_read_nart', \\\n",
    "            'cts_sdmt', 'cts_story', 'cts_stroop_cname', 'cts_stroop_wread', 'cts_wli', 'cts_wlii', 'cts_wliii']\n",
    "medical_features_sums = ['med_con_sum_cum', 'vasc_3dis_sum', 'vasc_risks_sum']\n",
    "continuous_demographics = ['age_at_visit', 'educ']\n",
    "\n",
    "composite_vars = {\n",
    "    \"cogn_ep\": [\"cts_wli\", \"cts_wlii\", \"cts_wliii\", \"cts_ebmt\", \"cts_ebdr\",  \"cts_story\",\"cts_delay\"],\n",
    "    \"cogn_po\": [\"cts_lopair\", \"cts_pmat\"],\n",
    "    \"cogn_ps\": [\"cts_sdmt\", \"cts_nccrtd\", \"cts_stroop_cname\", \"cts_stroop_wread\"],\n",
    "    \"cogn_se\":  [\"cts_bname\", \"cts_animals\", \"cts_fruits\",\"cts_catflu\", \"cts_read_nart\"],\n",
    "    \"cogn_wo\": [\"cts_db\", \"cts_df\", \"cts_doperf\"],\n",
    "    \"cogn_global\":  [\"cts_wli\", \"cts_wlii\", \"cts_wliii\", \"cts_ebmt\", \"cts_ebdr\",  \"cts_story\",\"cts_delay\",\\\n",
    "                     \"cts_lopair\", \"cts_pmat\", \"cts_sdmt\", \"cts_nccrtd\", \"cts_stroop_cname\", \"cts_stroop_wread\",\n",
    "                     \"cts_bname\", \"cts_catflu\", \"cts_read_nart\", \"cts_db\", \"cts_df\", \"cts_doperf\"] }\n",
    "    \n",
    "# these can stay as is\n",
    "binary = ['hypertension_cum', 'cancer_cum','diabetes_sr_rx', 'dm_cum', 'headinjrloc_cum', 'lostcons',\\\n",
    "                         'thyroid_cum', 'chf_cum', 'claudication_cum', 'heart_cum', 'stroke_cum', \"msex\", \"spanish\"]\n",
    "\n",
    "\n",
    "# these need to be one hot encoded\n",
    "categorical = ['apoe_4count', 'race', 'dcfdx']\n"
   ]
  },
  {
   "cell_type": "code",
   "execution_count": 4,
   "metadata": {
    "collapsed": true
   },
   "outputs": [],
   "source": [
    "load_data = pd.read_csv(\"../DATA/PROCESSED/standardized/merged_data_all_%s.csv\"%dset, index_col=0)\n",
    "\n",
    "sample_info = [\"projid\",\"study\",\"fu_year\",\"scaled_to\", \"onset_label_time\", 'onset_label_time_binary']\n",
    "data = load_data[sample_info]"
   ]
  },
  {
   "cell_type": "code",
   "execution_count": 5,
   "metadata": {
    "collapsed": true
   },
   "outputs": [],
   "source": [
    "feature_names = np.setdiff1d(load_data.columns, sample_info)\n",
    "features = load_data[feature_names]"
   ]
  },
  {
   "cell_type": "markdown",
   "metadata": {},
   "source": [
    "# demographics table"
   ]
  },
  {
   "cell_type": "code",
   "execution_count": 6,
   "metadata": {
    "collapsed": true
   },
   "outputs": [],
   "source": [
    "orig_data_features = pd.read_csv(\"../DATA/PROCESSED/merged_kept_data_2yrprev_within3.csv\").drop(['Unnamed: 0'], axis=1)\n",
    "orig_data_features[\"apoe_4count\"] = orig_data_features[\"apoe_genotype\"].apply(lambda x: 0 if x in [22., 23., 33.] else 1 if x in [24., 34.] else 2 if x == 44. else np.nan)\n"
   ]
  },
  {
   "cell_type": "code",
   "execution_count": 7,
   "metadata": {
    "collapsed": true
   },
   "outputs": [],
   "source": [
    "categorical_features =  binary + categorical \n",
    "continuous_features = cognitive_features + continuous_demographics + medical_features_sums + list(composite_vars.keys())\n",
    "\n",
    "demo_feats = ['age_at_visit', 'msex','educ', 'race', 'spanish', 'apoe_4count']\n",
    "# cog_feats = ['dcfdx', 'cogn_ep', 'cogn_po', 'cogn_ps', 'cogn_se', 'cogn_wo','cogn_global']\n",
    "cog_feats = ['dcfdx', 'cogn_global']\n",
    "\n",
    "med_feats = ['dcfdx', 'med_con_sum_cum', 'vasc_3dis_sum', 'vasc_risks_sum', 'cancer_cum','claudication_cum', \\\n",
    "        'diabetes_sr_rx', 'dm_cum', 'headinjrloc_cum', 'heart_cum', 'hypertension_cum','stroke_cum', 'thyroid_cum'] "
   ]
  },
  {
   "cell_type": "code",
   "execution_count": 8,
   "metadata": {
    "collapsed": true
   },
   "outputs": [],
   "source": [
    "t_test_vars = ['age_at_visit', 'educ', 'cogn_ep', 'cogn_po', 'cogn_ps', 'cogn_se', 'cogn_wo','cogn_global']\n",
    "\n",
    "t_test_vars += ['med_con_sum_cum','vasc_3dis_sum', 'vasc_risks_sum']\n",
    "#u_test_vars = ['med_con_sum_cum','vasc_3dis_sum', 'vasc_risks_sum']\n",
    "    \n",
    "t_test_vars += cognitive_features\n",
    "\n",
    "chi_test_vars = ['msex', 'race', 'spanish', 'apoe_4count', 'dcfdx', 'cancer_cum','claudication_cum', \\\n",
    "        'diabetes_sr_rx', 'dm_cum', 'headinjrloc_cum', 'heart_cum', 'hypertension_cum','stroke_cum', 'thyroid_cum'] "
   ]
  },
  {
   "cell_type": "code",
   "execution_count": 9,
   "metadata": {
    "collapsed": true
   },
   "outputs": [],
   "source": [
    "FEATURE_GROUPS = [(\"Demographics\", demo_feats), \n",
    "                  (\"Episodic Memory (EM)\", composite_vars[\"cogn_ep\"]),  \n",
    "                  (\"Perceptual Orientation (PO)\", composite_vars[\"cogn_po\"]), \n",
    "                  (\"Perceptual Speed (PS)\", composite_vars[\"cogn_ps\"]),  \n",
    "                  (\"Semantic Memory (SM)\", composite_vars[\"cogn_se\"]), \n",
    "                  (\"Working Memory (WM)\",  composite_vars[\"cogn_wo\"]), \n",
    "                  (\"Global Cognition\", [\"cts_mmse30\"]),\n",
    "                  (\"Medical history/lifestyle factors\", med_feats),\n",
    "                  (\"Diagnosis\", ['onset_label_time_binary'])]"
   ]
  },
  {
   "cell_type": "code",
   "execution_count": 10,
   "metadata": {
    "collapsed": true
   },
   "outputs": [],
   "source": [
    "var_names = {\n",
    "    'cts_animals': \"Categorical fluency: animals (1min)\",\n",
    " 'cts_bname': \"Boston naming (5min)\",\n",
    " 'cts_catflu': \"Categorical fluency (combined)\",\n",
    " 'cts_db': \"Digits backward (5min)\",\n",
    " 'cts_delay': \"Logical memory II (3min)\",\n",
    " 'cts_df': \"Digits forward (5min)\",\n",
    " 'cts_doperf': \"Digit ordering (5min)\",\n",
    " 'cts_ebdr': \"East boston test: immediate (3min)\",\n",
    " 'cts_ebmt': \"East boston test: delayed (3min)\",\n",
    " 'cts_fruits': \"Categorical fluency: fruits (1min)\" ,\n",
    " 'cts_idea': \"Complex Ideational Material\",\n",
    " 'cts_lopair': \"Line orientation (15min)\",\n",
    " 'cts_mmse30': \"Mini-mental state exam (5-10min)\",\n",
    " 'cts_nccrtd': \"Number comparison (3min)\",\n",
    " 'cts_pmat': \"Progressive matrices (20min)\",\n",
    " 'cts_pmsub': \"Progressive matrices (subset)\",\n",
    " 'cts_read_nart': \"National adult reading test (2min)\",\n",
    " 'cts_sdmt': \"Symbol digits modality test (5min)\",\n",
    " 'cts_story' : \"Logical memory I (3min)\",\n",
    " 'cts_stroop_cname': \"Stroop color naming (3min)\",\n",
    " 'cts_stroop_wread': \"Stroop word reading (3min)\",\n",
    " 'cts_wli': \"Word list: immediate (1min)\",\n",
    " 'cts_wlii': \"Word list: delayed (1min)\",\n",
    " 'cts_wliii': \"Word list: recognition (1min)\",\n",
    "    'age_at_visit': \"Age\",\n",
    "    'educ': \"Years of education\",\n",
    "    'med_con_sum_cum': \"Medical conditions sum\",\n",
    "    'vasc_3dis_sum': \"Vascular disease burden\",\n",
    "    'vasc_risks_sum': \"Vascular disease risk\"\n",
    "}"
   ]
  },
  {
   "cell_type": "code",
   "execution_count": 11,
   "metadata": {
    "scrolled": false
   },
   "outputs": [
    {
     "name": "stdout",
     "output_type": "stream",
     "text": [
      "Age & $t=-22.33^{***}$  & $79.70 \\pm 6.75$ &  $83.00 \\pm 7.01$  \\\\ \n",
      "msex & $\\chi^2=72.35^{***}$  & $31.9\\%$ &  $23.6\\%$  \\\\ \n",
      "Years of education & $t=44.74^{***}$  & $18.08 \\pm 3.38$ &  $14.92 \\pm 3.08$  \\\\ \n",
      "race ($1/2/3/6$) & $\\chi^2=24.29^{***}$  & $93.1\\%/6.1\\%/0.4\\%/0.3\\%$ &  $95.5\\%/4.3\\%/0.1\\%/0.1\\%$  \\\\ \n",
      "spanish & $\\chi^2=14.41^{***}$  & $3.7\\%$ &  $2.2\\%$  \\\\ \n",
      "apoe\\_4count ($0/1/2$) & $\\chi^2=10.06^{**}$  & $76.4\\%/22.2\\%/1.4\\%$ &  $79.3\\%/19.5\\%/1.2\\%$  \\\\ \n",
      "\\\\\n",
      "Mini-mental state exam (5-10min) & $t=8.87^{***}$  & $28.40 \\pm 1.77$ &  $28.03 \\pm 2.10$  \\\\ \n",
      "\\\\\n",
      "dcfdx ($1/2/3$) & $\\chi^2=6.16^{*}$  & $80.9\\%/18.5\\%/0.5\\%$ &  $78.8\\%/20.7\\%/0.5\\%$  \\\\ \n",
      "Medical conditions sum & $t=-6.42^{***}$  & $1.64 \\pm 1.17$ &  $1.80 \\pm 1.16$  \\\\ \n",
      "Vascular disease burden & $t=2.23^{*}$  & $0.48 \\pm 0.68$ &  $0.45 \\pm 0.67$  \\\\ \n",
      "Vascular disease risk & $t=-26.69^{***}$  & $0.71 \\pm 0.75$ &  $1.15 \\pm 0.80$  \\\\ \n",
      "cancer\\_cum & $\\chi^2=1.24^{}$  & $39.4\\%$ &  $40.7\\%$  \\\\ \n",
      "claudication\\_cum & $\\chi^2=48.25^{***}$  & $25.7\\%$ &  $19.3\\%$  \\\\ \n",
      "diabetes\\_sr\\_rx & $\\chi^2=3.23^{}$  & $11.2\\%$ &  $12.5\\%$  \\\\ \n",
      "dm\\_cum & $\\chi^2=6.01^{*}$  & $15.1\\%$ &  $17.0\\%$  \\\\ \n",
      "headinjrloc\\_cum & $\\chi^2=10.03^{**}$  & $10.5\\%$ &  $8.4\\%$  \\\\ \n",
      "heart\\_cum & $\\chi^2=0.00^{}$  & $13.1\\%$ &  $13.1\\%$  \\\\ \n",
      "hypertension\\_cum & $\\chi^2=21.54^{***}$  & $55.5\\%$ &  $60.5\\%$  \\\\ \n",
      "stroke\\_cum & $\\chi^2=23.10^{***}$  & $9.2\\%$ &  $12.5\\%$  \\\\ \n",
      "thyroid\\_cum & $\\chi^2=49.07^{***}$  & $21.8\\%$ &  $28.3\\%$  \\\\ \n",
      "\\\\\n",
      "onset\\_label\\_time\\_binary & $\\chi^2=12.09^{***}$  & $12.7\\%$ &  $15.3\\%$  \\\\ \n",
      "\\\\\n"
     ]
    }
   ],
   "source": [
    "percentages=True\n",
    "\n",
    "to_keep_groups = [\"Demographics\", \"Global Cognition\", \"Medical history/lifestyle factors\", \"Diagnosis\"]\n",
    "# to_keep_groups = [x[0] for x in FEATURE_GROUPS]\n",
    "for groupname,feat_group in FEATURE_GROUPS:\n",
    "    if groupname not in to_keep_groups:\n",
    "        continue\n",
    "    \n",
    "    for feat in feat_group:\n",
    "\n",
    "        # COMPARING ROS VS MAP\n",
    "        ROS = orig_data_features[orig_data_features[\"study\"]==\"ROS \"][feat]\n",
    "        MAP = orig_data_features[orig_data_features[\"study\"]==\"MAP \"][feat]\n",
    "        unique_vals = np.unique(np.hstack([ROS.dropna().values, MAP.dropna().values]))\n",
    "\n",
    "        if feat in t_test_vars:\n",
    "\n",
    "\n",
    "            t,p = stats.ttest_ind(ROS.dropna().values,MAP.dropna().values)\n",
    "            p_stars = \"***\" if p<.001 else \"**\" if p <.01 else \"*\" if p < .05 else \"\"\n",
    "\n",
    "            print(\"%s & $t=%.2f^{%s}$  & $%.2f \\pm %.2f$ &  $%.2f \\pm %.2f$  \\\\\\\\ \"%(var_names[feat],t,p_stars, ROS.mean(), ROS.std(), MAP.mean(), MAP.std()))\n",
    "\n",
    "        else:\n",
    "\n",
    "            # create dictionary of counts for observed values of feature\n",
    "            ROS_valcounts = {}\n",
    "            for i,v in enumerate(ROS.value_counts().index):\n",
    "                ROS_valcounts[v] = ROS.value_counts().values[i]\n",
    "            MAP_valcounts = {}\n",
    "            for i,v in enumerate(MAP.value_counts().index):\n",
    "                MAP_valcounts[v] = MAP.value_counts().values[i]\n",
    "            \n",
    "            for v in unique_vals:\n",
    "                if v not in ROS_valcounts.keys():\n",
    "                    ROS_valcounts[v]=0\n",
    "                if v not in MAP_valcounts.keys():\n",
    "                    MAP_valcounts[v]=0            \n",
    "\n",
    "            #get union of all values seen (just in case one of the groups has some 0s for some values)\n",
    "            all_vals = np.union1d(list(MAP_valcounts.keys()), list(ROS_valcounts.keys()))\n",
    "            \n",
    "            # generate contingency table (shape: values observed x groups)\n",
    "            contingency_table = np.array([[ROS_valcounts[elt], MAP_valcounts[elt]] for elt in all_vals])\n",
    "\n",
    "\n",
    "            chi2_stat, p, dof, ex = stats.chi2_contingency(contingency_table)\n",
    "            p_stars = \"***\" if p<.001 else \"**\" if p <.01 else \"*\" if p < .05 else \"\"\n",
    "\n",
    "            \n",
    "            \n",
    "            if percentages:\n",
    "                if len(all_vals) < 3:\n",
    "                    controlfrac =ROS_valcounts[1]/np.sum(list(ROS_valcounts.values())) * 100\n",
    "                    demfrac =MAP_valcounts[1]/np.sum(list(MAP_valcounts.values())) * 100\n",
    "                    \n",
    "                    print(\"%s & $\\chi^2=%.2f^{%s}$  & $%.1f\\%%$ &  $%.1f\\%%$  \\\\\\\\ \"%(feat.replace(\"_\", \"\\_\"), chi2_stat,p_stars,controlfrac, demfrac))\n",
    "\n",
    "                \n",
    "                else:\n",
    "                    outcomes_str = \"/\".join(all_vals.astype(int).astype(str))\n",
    "                    \n",
    "                    controlvals = (np.round(contingency_table[:,0]/sum(contingency_table[:,0])*100,1))\n",
    "                    demvals = (np.round(contingency_table[:,1]/sum(contingency_table[:,1])*100,1))\n",
    "                    controlvals_str = \"/\".join([\"%s\\%%\"%x for x in controlvals.astype(str)])\n",
    "                    demvals_str = \"/\".join([\"%s\\%%\"%x for x in demvals.astype(str)])\n",
    "                \n",
    "                    print(\"%s ($%s$) & $\\chi^2=%.2f^{%s}$  & $%s$ &  $%s$  \\\\\\\\ \"%(feat.replace(\"_\", \"\\_\"),outcomes_str, chi2_stat,p_stars,controlvals_str, demvals_str))\n",
    "            else:\n",
    "                outcomes_str = \"/\".join(all_vals.astype(int).astype(str))\n",
    "                controlvals_str = \"/\".join(contingency_table[:,0].astype(int).astype(str))\n",
    "                demvals_str = \"/\".join(contingency_table[:,1].astype(int).astype(str))\n",
    "                \n",
    "                print(\"%s ($%s$) & $\\chi^2=%.2f^{%s}$  & $%s$ &  $%s$  \\\\\\\\ \"%(feat.replace(\"_\", \"\\_\"),outcomes_str, chi2_stat,p_stars,controlvals_str, demvals_str))\n",
    "    print(\"\\\\\\\\\")"
   ]
  },
  {
   "cell_type": "code",
   "execution_count": null,
   "metadata": {
    "collapsed": true
   },
   "outputs": [],
   "source": []
  }
 ],
 "metadata": {
  "kernelspec": {
   "display_name": "Python 3.6",
   "language": "python",
   "name": "py36"
  },
  "language_info": {
   "codemirror_mode": {
    "name": "ipython",
    "version": 3
   },
   "file_extension": ".py",
   "mimetype": "text/x-python",
   "name": "python",
   "nbconvert_exporter": "python",
   "pygments_lexer": "ipython3",
   "version": "3.6.3"
  }
 },
 "nbformat": 4,
 "nbformat_minor": 2
}
